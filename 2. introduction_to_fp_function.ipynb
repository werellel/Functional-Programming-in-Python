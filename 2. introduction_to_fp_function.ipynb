{
 "cells": [
  {
   "cell_type": "markdown",
   "metadata": {},
   "source": [
    "# 함수형 기능 소개"
   ]
  },
  {
   "cell_type": "markdown",
   "metadata": {},
   "source": [
    "대부분의 함수형 프로그래밍 기능은 파이썬에 이미 일급 계층으로 들어있다. 함수형 파이썬을 작성하는 목표는 명령형 기법에서 가능한 멀리 벗어나는 것이다.\n",
    "\n",
    "## 일급 계층 함수\n",
    "함수형 프로그래밍은 간결하고 표현력이 높은데 이를 달성하려면 함수를 인자로 제공하고, 다른 함수가 사용할 수 있도록 함수를 반환하는 것이다.\n",
    "이러한 사용이 가능하려면 함수가 실행 시점의 환경에서 일급 계층이어야만 한다. C와 같은 프로그래밍 언어에서는 함수가 실행 시점의 객체가 아니지만 파이썬은 def문에 의해 생성되는 객체이며, 다른 파이썬 함수에서 이를 조작할 수 있고, 호출 가능(callable) 객체로 정의하거나 lambda를 변수에 대입하여 만들 수 있다."
   ]
  },
  {
   "cell_type": "code",
   "execution_count": 3,
   "metadata": {},
   "outputs": [
    {
     "data": {
      "text/plain": [
       "2"
      ]
     },
     "execution_count": 3,
     "metadata": {},
     "output_type": "execute_result"
    }
   ],
   "source": [
    "def example(a, b, **kw):\n",
    "    return a*b\n",
    "\n",
    "type(example)\n",
    "example.__code__.co_varnames\n",
    "example.__code__.co_argcount"
   ]
  },
  {
   "cell_type": "markdown",
   "metadata": {},
   "source": [
    "__code__ 객체는 함수 객체 자신을 애트리뷰트와 연관시켜준다. 함수가 일급 계층 객체이고, 다른 일반적인 객체와 마찬가지로 조작이 가능하다는 것을 볼 수 있다."
   ]
  },
  {
   "cell_type": "markdown",
   "metadata": {},
   "source": [
    "## 순수 함수\n",
    "\n",
    "함수형 프로그래밍 설계에서 사용하는 함수는 부수 효과로 인해 발생할 수 있는 혼동이 없어야 한다. 순수 함수를 사용하면 평가 순서를 바꿔 최적화할 수 있는 여지가 생기지만 가장 큰 이익은 순수 함수가 개념적으로 훨씬 단순하며, 테스트하기 쉽다는 점으로부터 얻을 수 있다.\n",
    "\n",
    "순수 함수를 파이썬으로 작성하려면 지역 상태만을 사용하는 코드를 작성해야 한다. 만일 정말 순수 함수 규칙을 따르고 있는지를 자신할 수 없다면 dis 모듈을 사용해 주어진 함수를 컴파일한 코드인 __code__.co_code 부분에 전역 참조가 있는지 살펴보아야 한다. dis 모듈은 내부 클로저의 사용을 보고할 수 있다. \n",
    "\n",
    "파이썬 lamdba는 순수 함수다. 람다는 권장하진 않지만 순수 함수를 만드는 것은 가능하다."
   ]
  },
  {
   "cell_type": "code",
   "execution_count": 5,
   "metadata": {},
   "outputs": [
    {
     "data": {
      "text/plain": [
       "131071"
      ]
     },
     "execution_count": 5,
     "metadata": {},
     "output_type": "execute_result"
    }
   ],
   "source": [
    "mersenne = lambda x:2**x-1\n",
    "mersenne(17)"
   ]
  },
  {
   "cell_type": "markdown",
   "metadata": {},
   "source": [
    "람다 내부에 대입문을 사용할 수 없기 때문에 람다는 항상 순수 함수이며, 함수형 프로그래밍에 적합하다."
   ]
  },
  {
   "cell_type": "markdown",
   "metadata": {},
   "source": [
    "## 고차 함수\n",
    "\n",
    "고차 함수를 사용하면 간결하고 이해하기 쉬운 프로그램을 만들 수 있다. 함수를 인자로 받아들이거나 함수를 값으로 반환하는 함수도 있다.\n",
    "파이썬의 max()에 함수를 인자로 제공하면 max()가 작동하는 방식을 바꿀 수 있다"
   ]
  },
  {
   "cell_type": "code",
   "execution_count": 6,
   "metadata": {},
   "outputs": [
    {
     "data": {
      "text/plain": [
       "(4000, 20)"
      ]
     },
     "execution_count": 6,
     "metadata": {},
     "output_type": "execute_result"
    }
   ],
   "source": [
    "year_cheese =[ (4000, 20), (3000, 30), (2000, 40) ]\n",
    "max(year_cheese)"
   ]
  },
  {
   "cell_type": "code",
   "execution_count": 7,
   "metadata": {},
   "outputs": [
    {
     "data": {
      "text/plain": [
       "(2000, 40)"
      ]
     },
     "execution_count": 7,
     "metadata": {},
     "output_type": "execute_result"
    }
   ],
   "source": [
    "max(year_cheese, key =lambda x:x[1])"
   ]
  },
  {
   "cell_type": "markdown",
   "metadata": {},
   "source": [
    "## 변경 불가능한 데이터\n",
    "\n",
    "계산 상태를 추적할 때는 변수를 사용하지 않기 때문에 초점을 변경 불가능한 객체에 맞춰야 한다. 우리는 tuple과 namedtuple을 폭넓게 사용해 변경 불가능한 복잡한 데이터를 제공할 것이다.\n",
    "\n",
    "함수형 프로그래밍에서는 단지 상태가 있는 객체가 필요하지 않아서 객체를 사용하지 않는다. callable 객체를 정의해야 할 경우가 있다. 그러한 객체는 밀접하게 연관된 함수에 대한 이름 공간을 제공하는 깔끔한 방법이며, 성정 가능성도 다양하게 제공하기 때문이다.\n",
    "\n",
    "불변 객체를 사용하면 특히 잘 작동하는 일반적인 디자인 패턴을 살표보면 wrapper 함수가 있다. 튜플의 리스트는 매우 자주 쓰이는 데이터 구조인데 튜플의 리스트를 처리할 때는 보통 다음 두 가지 방법 중 하나를 선택한다.\n",
    "\n",
    "1. 고차 함수 max(year_cheese, key=lambda x:x[1])\n",
    "2. 감싸고-처리하고-풀기 패턴 max(map(lambda x:(x[1], x), year_cheese))"
   ]
  },
  {
   "cell_type": "code",
   "execution_count": 33,
   "metadata": {},
   "outputs": [
    {
     "data": {
      "text/plain": [
       "(40, (2000, 40))"
      ]
     },
     "execution_count": 33,
     "metadata": {},
     "output_type": "execute_result"
    }
   ],
   "source": [
    "max(map(lambda x:(x[1], x), year_cheese))"
   ]
  },
  {
   "cell_type": "code",
   "execution_count": 35,
   "metadata": {},
   "outputs": [
    {
     "data": {
      "text/plain": [
       "(2000, 40)"
      ]
     },
     "execution_count": 35,
     "metadata": {},
     "output_type": "execute_result"
    }
   ],
   "source": [
    "_[1] # 첨자 연산은 max() 함수가 선택한 2-튜플의 두 번째 원소를 가져온다."
   ]
  },
  {
   "cell_type": "code",
   "execution_count": 36,
   "metadata": {},
   "outputs": [
    {
     "data": {
      "text/plain": [
       "(2000, 40)"
      ]
     },
     "execution_count": 36,
     "metadata": {},
     "output_type": "execute_result"
    }
   ],
   "source": [
    "snd = lambda x:x[1]\n",
    "snd( max(map(lambda x:(x[1], x), year_cheese)))"
   ]
  },
  {
   "cell_type": "markdown",
   "metadata": {},
   "source": [
    "## 엄격한 평가와 엄격하지 않은 평가\n",
    "\n",
    "함수형 프로그래밍은 부분적으로 어떤 계산을 그 결과가 정말 필요할 때까지 유예하는 방식을 활용하는 것으로 인해 효율성을 얻는다. 이러잔 지연 또는 엄격하지 않은 평가라는 아이디어는 매우 유용하다. \n",
    "\n",
    "파이썬에서 논리 연산자인 and, or나 if-then-else는 모두 엄격하지 않다. 결과값을 계산하는기 위해 항상 모든 인자를 평가하지는 않기 때문이다. \n",
    "\n",
    "아래의 명령행 세션은 이러한 연산자의 엄격하지 않은 특성을 보여준다."
   ]
  },
  {
   "cell_type": "code",
   "execution_count": 40,
   "metadata": {},
   "outputs": [
    {
     "data": {
      "text/plain": [
       "0"
      ]
     },
     "execution_count": 40,
     "metadata": {},
     "output_type": "execute_result"
    }
   ],
   "source": [
    "0 and print('right')"
   ]
  },
  {
   "cell_type": "code",
   "execution_count": 41,
   "metadata": {},
   "outputs": [
    {
     "name": "stdout",
     "output_type": "stream",
     "text": [
      "right\n"
     ]
    }
   ],
   "source": [
    "True and print('right')"
   ]
  },
  {
   "cell_type": "markdown",
   "metadata": {},
   "source": [
    "메서드 함수는 클래스를 정의할 때 엄격하게 순서대로 정의된다. 클래스 정의의 경우 메서드 함수들은 딕셔너리에 수집되며, 생성된 다음에는 순서를 유지하지 않는다. 이름이 같은 메서드를 두 가지 정의하면, 엄격한 정의 순서에 따라 두 번째 메서드만 살아남는다.\n",
    "\n",
    "하지만 파이썬의 제너레이터 식이나 함수는 지연 계산 대상이다. 이러한 식은 즉시 모든 가능한 값을 만들어 내지 않는다. 계산 과정을 명시적으로 로그에 남기지 않으면 이러한 특성을 살펴보는 것은 쉽지 않다. 다음은 range() 함수의 다른 버전으로, 내부적으로 부수 효과를 사용해 생성 중인 수를 표시하는 함수다."
   ]
  },
  {
   "cell_type": "code",
   "execution_count": 44,
   "metadata": {},
   "outputs": [],
   "source": [
    "def numbers():\n",
    "    for i in range(2004):\n",
    "        print(\"=\", i)\n",
    "        yield i"
   ]
  },
  {
   "cell_type": "code",
   "execution_count": 50,
   "metadata": {},
   "outputs": [],
   "source": [
    "def sum_to(n):\n",
    "    sum = 0\n",
    "    for i in numbers():\n",
    "        if i == n: break\n",
    "        sum += i\n",
    "    return sum"
   ]
  },
  {
   "cell_type": "code",
   "execution_count": 51,
   "metadata": {},
   "outputs": [
    {
     "name": "stdout",
     "output_type": "stream",
     "text": [
      "= 0\n",
      "= 1\n",
      "= 2\n",
      "= 3\n",
      "= 4\n",
      "= 5\n"
     ]
    },
    {
     "data": {
      "text/plain": [
       "10"
      ]
     },
     "execution_count": 51,
     "metadata": {},
     "output_type": "execute_result"
    }
   ],
   "source": [
    "sum_to(5)"
   ]
  },
  {
   "cell_type": "markdown",
   "metadata": {},
   "source": [
    "파이썬의 제네레이터 함수에는 단순한 함수형 프로그래밍에 사용하기에는 조금 이상한 특징이 존재한다. 특히, 파이썬에서는 제네레이터를 한 번만 사용할 수 있다. 따라서 지연 계산하는 파이썬 제네레이터 식을 사용하는 경우에는 조심해야 할 필요가 있다."
   ]
  },
  {
   "cell_type": "markdown",
   "metadata": {},
   "source": [
    "## 명시적 루프 상태 대신 재귀 사용\n",
    "\n",
    "함수형 프로그램은 루프에 의존하지 않으며, 루프의 상태를 추적하는 데 따른 부가 비용도 없다. "
   ]
  },
  {
   "cell_type": "code",
   "execution_count": 58,
   "metadata": {},
   "outputs": [
    {
     "data": {
      "text/plain": [
       "False"
      ]
     },
     "execution_count": 58,
     "metadata": {},
     "output_type": "execute_result"
    }
   ],
   "source": [
    "import math\n",
    "n = 12\n",
    "not any(n%p==0 for p in range(2, int(math.sqrt(n)) + 1))"
   ]
  },
  {
   "cell_type": "markdown",
   "metadata": {},
   "source": [
    "이 간단한 식의 내부에는 for 루프가 들어 있다. 따라서 이는 상태가 없는 함수형 프로그램의 예가 아니다. 이를 값의 컬렉션에 대해 동작하는 함수로 재작성 할 수 있다."
   ]
  },
  {
   "cell_type": "code",
   "execution_count": 60,
   "metadata": {},
   "outputs": [],
   "source": [
    "def isprimer(n):\n",
    "    def isprime(k, coprime):\n",
    "        if k < coprime*coprime: return True\n",
    "        if k % coprime == 0: return False\n",
    "        return isprime(k, coprime+2)\n",
    "    if n < 2: return False\n",
    "    if n == 2: return True\n",
    "    if n % 2 == 0: return False\n",
    "    return isprime(n, 3)"
   ]
  },
  {
   "cell_type": "markdown",
   "metadata": {},
   "source": [
    "이 코드는 재귀적인 isprime() 함수 구현을 보여준다. 반만 열린 구간인 [2, 1+$\\sqrt{n}$]은 구간의 최솟값인 a값만을 사용하는 것으로 표현했다. \n",
    "이러한 함수는 극히 간결하고 이해하기 쉽지만, 파이썬에서 재귀를 사용하려면 약간의 주의가 필요하다. 다음과 같이 두 가지 문제가 발생할 수 있다. \n",
    "\n",
    "1. 파이썬에서는 기본적인 경우를 잘못 정의한 재귀함수를 감지하기 위해 재귀 깊이에 한계가 정해져 있다.\n",
    "2. 파이썬에는 꼬리 재위 최적화를 수행하는 컴파일러가 존재하지 않는다.\n",
    "\n",
    "재귀 깊이의 한계는 기본적으로 1000이다. sys.setresursionlimit() 함수를 통해 바꿀 수 있다. 하지만 OS 메모리 한계를 넘어서거나 파이썬 인터프리터를 망가뜨릴 수 있기 때문에 이를 임의로 변경하는 것은 그리 현명한 일이 아니다. \n",
    "\n",
    "최적화 컴파일러는 재귀 호출을 부가 비용이 적게 드는 루프로 최적화해준다. 이러한 최적화를 수행하면 여러 재귀호출 스택이 뭉개지기 때문에 최적화한 프로그램을 디버깅하기 힘들어진다. 파이썬은 이러한 최적화를 수행하지 않는다. 단순함과 명확성을 위해 성능과 메모리를 희생시킨다.\n",
    "\n",
    "파이썬에서 재귀함수 대신 제네레이터 식을 사용하는 경우, 근본적으로 꼬리재귀 최적화를 직접 해주는 것과 같다. 우리는 일부 함수형 프로그래밍 언어와 달리 이러한 최적화를 컴파일러에 의존하지 않는다.\n",
    "\n",
    "다음은 제네레이터 식을 사용해 TCO한 코드다."
   ]
  },
  {
   "cell_type": "code",
   "execution_count": 63,
   "metadata": {},
   "outputs": [],
   "source": [
    "def isprime(p):\n",
    "    if p < 2: return False\n",
    "    if p == 2: return True\n",
    "    if p % 2 == 0: return False\n",
    "    return not any(p==0 for p in range(3, int(math.sqrt(n))+1, 2 ))"
   ]
  },
  {
   "cell_type": "markdown",
   "metadata": {},
   "source": [
    "이 함수는 다른 함수형 프로그래밍 원칙을 포함하고 있다. 하지만 순수한 재귀 대신 제네레이터 식을 사용한다.\n",
    "때로는 순수한 재귀함수를 제네레이터 식 안에서 for 루프를 사용하는 방식으로 최적화할 수 있다.\n",
    "\n",
    "이 알고리즘은 큰 소수에 대한 성능이 좋지 않다. $2^{61}-1$과 같은 수가 소수임을 판별하는데, 이 함수를 사용하면 몇 분이나 걸린다. 개별적인 약수 후보를 모두 검증하기 때문이다."
   ]
  },
  {
   "cell_type": "markdown",
   "metadata": {},
   "source": [
    "## 함수형 타입 시스템\n",
    "\n",
    "하스켈이나 스칼라와 같은 일부 함수형 프로그래밍 언어는 정적으로 컴파일되고, 함수나 함수 인자에 대해 선언된 타입에 의존한다. 파이썬이 이미 제공하고 있는 유연성을 제공하기 위해 이러한 언어에서는 여러 다양한 관련 타입에도 작동할 수 있는 제네릭 함수를 작성할 수 있도록 하기 위한 복잡한 타입 복합 규칙을 사용한다.\n",
    "\n",
    "\n",
    "## 낯익은 영역\n",
    "\n",
    "실제로 대부분의 함수형 프로그래밍은 이미 매우 전형적이고 일반적인 객체지향 프로그래밍의 일부다. 풍부한 API는 매우 깔끔한 함수형 프로그래밍의 예라 할 수 있다. 명령형 프로그래밍 방식이 어떤 식으로든 잘못 됐다거나 함수형 프로그래밍이 매우 우월한 기법을 제공한다는 것이 아니다. 중요한 것은 함수형 프로그래밍은 관점을 변화시켜주고, 그러한 관점의 전환이 매우 유용하다는 것이다. "
   ]
  },
  {
   "cell_type": "markdown",
   "metadata": {},
   "source": [
    "## 어려운 개념 남겨두기\n",
    "\n",
    "파이썬은 순수한 함수형 언어가 아니라 우리가 취할 혼합형 접근 방식에서는 이러한 개념을 깊이 생각할 필요가 없다.\n",
    "\n",
    "1. 참조 투명성: 지연 계산이나 컴파일 언어에서 가능한 여러 최적화 기법을 살펴보는 경우, 같은 객체를 가리키는 여러 경로가 존재한다는 개념이 중요하다. 파이썬에서는 중요한 컴파일 타임 최적화를 수행하지 않기 때문에 이러한 개념이 그리 중요하지 않다.\n",
    "\n",
    "2. 커링: 타입 시스템에서는 인자가 여러 가지인 함수를 인자 하나만 받는 함수로 바꾸기 위해 커링을 사용할 것이다. \n",
    "\n",
    "3. 모나드: 모나드는 순차적인 처리 과정을 유연하게 구조화할 수 있는 순수 함수형 구성 요소다. 대부분의 경우 우리는 파이썬의 명령형 기능을 활용해 같은 목표를 달성할 것이다. PyMonad 라이브러리를 연습해보자. "
   ]
  },
  {
   "cell_type": "markdown",
   "metadata": {},
   "source": [
    "## 요약\n",
    "\n",
    "함수가 추가적인 프로그래밍 대상이 될 수 있다면, 좀 더 극단적으로 유연하고 일반적인 알고리즘을 작성할 수 있다.\n",
    "\n",
    "변경 불가능한 데이터라는 아이디어는 파이선과 같은 명령형이거나 객체지향인 프로그래밍 언어에서 때로 이상하게 느껴질 수 있다. 하지만 함수형 \n",
    "프로그래밍에 초점을 맞춘다면 상태를 변경하는 것이 혼란을 야기하거나 별 도움이 되지 않는 경우가 있다는 것을 알 수 있다. \n",
    "\n",
    "파이썬은 엄격한 계산에 초점을 맞추지만 if elif 나 제네레이터 함수는 엄격하지 않다. 따라서 모든 하위식을 반드시 계산하지 않는 것에 유념한다. \n",
    "\n",
    "함수형 프로그래밍은 명시적인  루프 상태 대신 재귀에 의존하지만, 파이썬에서는 재귀를 사용할 때 몇 가지 제약이 따른다. 스택 깊이 제한과 최적화 컴파일러가 없다는 이유 때문에 수동으로 재귀함수를 최적화해야만 한다."
   ]
  },
  {
   "cell_type": "code",
   "execution_count": null,
   "metadata": {},
   "outputs": [],
   "source": []
  }
 ],
 "metadata": {
  "kernelspec": {
   "display_name": "Python 3",
   "language": "python",
   "name": "python3"
  },
  "language_info": {
   "codemirror_mode": {
    "name": "ipython",
    "version": 3
   },
   "file_extension": ".py",
   "mimetype": "text/x-python",
   "name": "python",
   "nbconvert_exporter": "python",
   "pygments_lexer": "ipython3",
   "version": "3.7.3"
  }
 },
 "nbformat": 4,
 "nbformat_minor": 2
}
