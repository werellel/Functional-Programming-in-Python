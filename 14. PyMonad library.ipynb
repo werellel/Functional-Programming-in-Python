{
 "cells": [
  {
   "cell_type": "markdown",
   "metadata": {},
   "source": [
    "모나드를 사용하면 모나드를 사용하지 않은 겨우 식을 다양한 순서로 평가할 수 있는 언어에서 평가 순서를 지정할 수 있다. 모나드를 사용해 a+b+c와 같은 식이 왼쪽에서 오른쪽 순서로 평가되게 만들 수 있다. 일반적으로는 이러한 모나드의 기능이 그리 유용해 보이지 않는다. 하지만 파일의 내용을 특정 순서대로 쓰고 읽고 싶은 경우, 모나드를 사용하면 read와 write 함수가 특정 순서대로 평가되도록 쉽게 만들 수 있다.\n",
    "\n",
    "평가 순서가 다양하고, 최적화 컴파일러를 제공하는 언어의 경우 모나드를 사용하면 식을 평가하는 순서를 정할 수 있다는 장점이 있다. 파이썬의 경우 대부분의 부분이 엄격한 평가를 수행하고 최적화를 수행하지 않는다. 따라서 모나드를 실용적으로 활용할 수 있는 가능성을 별로 없다. \n",
    "\n",
    "그러나 PyMonad 모듈은 모나드 이상이다. 그 안에는 별도의 구현이 있는 함수형 프로그래밍 기능이 많이 들어 있다. PyMonad 모듈을 사용하면 표준 라이브러리에 있는 모듈만을 사용할 때 보다 더 간결하고 이해하기 쉬운 프로그램을 만들 수 있는 경우가 있다."
   ]
  },
  {
   "cell_type": "code",
   "execution_count": 2,
   "metadata": {},
   "outputs": [],
   "source": [
    "import pymonad"
   ]
  },
  {
   "cell_type": "code",
   "execution_count": 3,
   "metadata": {},
   "outputs": [
    {
     "name": "stdout",
     "output_type": "stream",
     "text": [
      "Help on package pymonad:\n",
      "\n",
      "NAME\n",
      "    pymonad\n",
      "\n",
      "PACKAGE CONTENTS\n",
      "    either\n",
      "    io\n",
      "    list\n",
      "    maybe\n",
      "    monad\n",
      "    monoid\n",
      "    operators (package)\n",
      "    promise\n",
      "    reader\n",
      "    state\n",
      "    tools\n",
      "    writer\n",
      "\n",
      "FILE\n",
      "    c:\\programdata\\anaconda3\\lib\\site-packages\\pymonad\\__init__.py\n",
      "\n",
      "\n"
     ]
    }
   ],
   "source": [
    "help(pymonad)"
   ]
  },
  {
   "cell_type": "markdown",
   "metadata": {},
   "source": [
    "### 함수적 합성과 커링\n",
    "\n",
    "일부 함수형 언어는 인자가 많은 함수를 인자가 하나뿐인 여러 함수로 변환하는 방식으로 작동한다. 이러한 처리 과정을 커링이라 한다. \n",
    "\n",
    "파이썬에서 구체적인 예를 살펴보자. 다음과 같은 함수가 있다고 가정하자."
   ]
  },
  {
   "cell_type": "code",
   "execution_count": 24,
   "metadata": {},
   "outputs": [],
   "source": [
    "from pymonad.tools import curry\n",
    "\n",
    "@curry(4)\n",
    "def systolic_bp(bmi, age, gender_male, treatment):\n",
    "    return 68.15+0.58*bmi+0.65*age+0.94*gender_male+6.44*treatment"
   ]
  },
  {
   "cell_type": "markdown",
   "metadata": {},
   "source": [
    "이 함수는 수축기 혈압을 기반으로 한 간단한 다중 회귀 기반 모델이다.\n",
    "\n",
    "다음과 같이 systolic_bp 함수를 네 가지 이자를 모두 넘겨 사용할 수 있다."
   ]
  },
  {
   "cell_type": "code",
   "execution_count": 27,
   "metadata": {},
   "outputs": [
    {
     "data": {
      "text/plain": [
       "116.09"
      ]
     },
     "execution_count": 27,
     "metadata": {},
     "output_type": "execute_result"
    }
   ],
   "source": [
    "systolic_bp(25, 50, 1, 0)"
   ]
  },
  {
   "cell_type": "code",
   "execution_count": 28,
   "metadata": {},
   "outputs": [
    {
     "data": {
      "text/plain": [
       "121.59"
      ]
     },
     "execution_count": 28,
     "metadata": {},
     "output_type": "execute_result"
    }
   ],
   "source": [
    "systolic_bp(25, 50, 0, 1)"
   ]
  },
  {
   "cell_type": "code",
   "execution_count": 29,
   "metadata": {},
   "outputs": [
    {
     "data": {
      "text/plain": [
       "115.15"
      ]
     },
     "execution_count": 29,
     "metadata": {},
     "output_type": "execute_result"
    }
   ],
   "source": [
    "treated = systolic_bp(25, 50, 0)\n",
    "treated(0)"
   ]
  },
  {
   "cell_type": "code",
   "execution_count": 30,
   "metadata": {},
   "outputs": [
    {
     "data": {
      "text/plain": [
       "121.59"
      ]
     },
     "execution_count": 30,
     "metadata": {},
     "output_type": "execute_result"
    }
   ],
   "source": [
    "treated(1)"
   ]
  },
  {
   "cell_type": "code",
   "execution_count": 31,
   "metadata": {},
   "outputs": [],
   "source": [
    "g_t = systolic_bp(25, 50)"
   ]
  },
  {
   "cell_type": "code",
   "execution_count": 33,
   "metadata": {},
   "outputs": [
    {
     "data": {
      "text/plain": [
       "116.09"
      ]
     },
     "execution_count": 33,
     "metadata": {},
     "output_type": "execute_result"
    }
   ],
   "source": [
    "g_t(1, 0)"
   ]
  },
  {
   "cell_type": "code",
   "execution_count": 34,
   "metadata": {},
   "outputs": [
    {
     "data": {
      "text/plain": [
       "121.59"
      ]
     },
     "execution_count": 34,
     "metadata": {},
     "output_type": "execute_result"
    }
   ],
   "source": [
    "g_t(0, 1)"
   ]
  },
  {
   "cell_type": "markdown",
   "metadata": {},
   "source": [
    "### 커링한 고차 함수 사용하기\n",
    "\n",
    "평범한 함수를 사용하면 커링을 보여주기 쉽지만, 실제 커링의 카치는 고차 함수에 적용하는 경우 나타난다. functools.reduce 함수는 커링가능해야 할 것이며, 다음과 같이 사용할 수도 있을 것이다."
   ]
  },
  {
   "cell_type": "code",
   "execution_count": 42,
   "metadata": {},
   "outputs": [],
   "source": [
    "from functools import reduce\n",
    "import operator\n",
    "a_list = [1, 2, 3, 4, 5]\n",
    "sums = reduce(operator.add, a_list)"
   ]
  },
  {
   "cell_type": "code",
   "execution_count": 44,
   "metadata": {},
   "outputs": [
    {
     "data": {
      "text/plain": [
       "15"
      ]
     },
     "execution_count": 44,
     "metadata": {},
     "output_type": "execute_result"
    }
   ],
   "source": [
    "sums"
   ]
  },
  {
   "cell_type": "markdown",
   "metadata": {},
   "source": [
    "하지만 reduce 함수는 커링이 가능하지 않다. 따로 reduce 함수를 정의한다면 커링을 허용할 수 있다."
   ]
  },
  {
   "cell_type": "code",
   "execution_count": 57,
   "metadata": {},
   "outputs": [],
   "source": [
    "import collections.abc\n",
    "\n",
    "@curry(2)\n",
    "def user_defined_reduce(function, iterable_or_sequece):\n",
    "    if isinstance(iterable_or_sequece, collections.abc.Sequence):\n",
    "        iterator = iter(iterable_or_sequece)\n",
    "    else:\n",
    "        iterator = iterable_or_sequece\n",
    "    s = next(iterator)\n",
    "    for v in iterator:\n",
    "        s = function(s, v)\n",
    "    return s"
   ]
  },
  {
   "cell_type": "code",
   "execution_count": 58,
   "metadata": {},
   "outputs": [],
   "source": [
    "ud_sum = user_defined_reduce(operator.add)"
   ]
  },
  {
   "cell_type": "code",
   "execution_count": 59,
   "metadata": {},
   "outputs": [
    {
     "data": {
      "text/plain": [
       "6"
      ]
     },
     "execution_count": 59,
     "metadata": {},
     "output_type": "execute_result"
    }
   ],
   "source": [
    "ud_sum([1, 2, 3])"
   ]
  },
  {
   "cell_type": "code",
   "execution_count": 60,
   "metadata": {},
   "outputs": [],
   "source": [
    "ud_max = user_defined_reduce(lambda x, y: x if x> y else y)"
   ]
  },
  {
   "cell_type": "code",
   "execution_count": 61,
   "metadata": {},
   "outputs": [
    {
     "data": {
      "text/plain": [
       "5"
      ]
     },
     "execution_count": 61,
     "metadata": {},
     "output_type": "execute_result"
    }
   ],
   "source": [
    "ud_max([2, 1, 5])"
   ]
  },
  {
   "cell_type": "markdown",
   "metadata": {},
   "source": [
    "하지만 위와 같은 방식은 일반적인 max 함수를 쉽게 구현할 수 없다. 커링은 위치 기반 매개변수에 의존하기 때문이다. key라는 키워드 기반 매개변수를 지정할 수 있게 만들려면 구현이 너무 복잡해져서 간결하면서 이해하기 쉬운 함수형 프로그램이라는 목적에 위배된다.\n",
    "\n",
    "더 일반적인 max 함수를 만들려면 key라는 키워드 기반 매개변수라는 패러다임에서 벗어나야 한다. map filter reduce 함수 등이 하는 것과 같이 정렬 키를 뽑아내는 함수를 첫 번째 인자로 받는 것을 인정해야 할 것이다. \n",
    "\n",
    "### 더 어려운 방식으로 커링하기\n",
    "\n",
    "커링한 함수를 라이브러리 데코레이터 없이 직접 작성할 수도 있다. "
   ]
  },
  {
   "cell_type": "code",
   "execution_count": 62,
   "metadata": {},
   "outputs": [],
   "source": [
    "def f(x, *args):\n",
    "    def f1(y, *args):\n",
    "        def f2(z):\n",
    "            return (x+y)*z\n",
    "        if args:\n",
    "            return f2(*args)\n",
    "        return f2\n",
    "    if args:\n",
    "        return f1(*args)\n",
    "    return f1"
   ]
  },
  {
   "cell_type": "markdown",
   "metadata": {},
   "source": [
    "이러한 방식은 실수하기 쉽다. 하지만 이 예제는 커링이 진정 의미하는 것이 무엇이고, 어떻게 파이썬으로 커링을 구현할 수 있는지 잘 보여준다. \n",
    "\n",
    "### 함수적 합성과 PyMonad 곱셈 연산자\n",
    "\n",
    "커링한 함수의 중요한 가치 중 하나는 함수적 합성을 통해 그러한 함수를 서로 조합할 수 있다는 점이다. \n",
    "\n",
    "커링한 함수를 만들면, 함수적 합성을 사용하여 쉽게 더 복잡한 커링한 함수를 새로 만들 수 있다. pymonad 라이브러리에서는 * 연산자를 사용해 두 함수를 합성한다."
   ]
  },
  {
   "cell_type": "code",
   "execution_count": 63,
   "metadata": {},
   "outputs": [],
   "source": [
    "import operator\n",
    "prod = user_defined_reduce(operator.mul)"
   ]
  },
  {
   "cell_type": "markdown",
   "metadata": {},
   "source": [
    "다음은 값의 범위를 계산하는 두 번째 커리한 함수다."
   ]
  },
  {
   "cell_type": "code",
   "execution_count": 64,
   "metadata": {},
   "outputs": [],
   "source": [
    "@curry(1)\n",
    "def alt_range(n):\n",
    "    if n == 0: return range(1, 2)\n",
    "    if n % 2 == 0:\n",
    "        return range(2, n+1, 2)\n",
    "    else:\n",
    "        return range(1, n+2, 2)"
   ]
  },
  {
   "cell_type": "markdown",
   "metadata": {},
   "source": [
    "다음은 prod와 alt_range를 합성하여 새로운 커링한 함수를 만드는 방법을 보여준다. 라이브러리 버전에 따라 Compose로 대체해야 한다."
   ]
  },
  {
   "cell_type": "code",
   "execution_count": 73,
   "metadata": {},
   "outputs": [],
   "source": [
    "from pymonad.reader import Compose\n",
    "\n",
    "# semi_fact = prod * alt_range\n",
    "\n",
    "semi_fact = (Compose(alt_range)\n",
    "            .then(prod))"
   ]
  },
  {
   "cell_type": "code",
   "execution_count": 74,
   "metadata": {},
   "outputs": [
    {
     "data": {
      "text/plain": [
       "945"
      ]
     },
     "execution_count": 74,
     "metadata": {},
     "output_type": "execute_result"
    }
   ],
   "source": [
    "semi_fact(9)"
   ]
  },
  {
   "cell_type": "markdown",
   "metadata": {},
   "source": [
    "이를 파이썬에서 직접 구현한 경우 람다로 정의할 수 있다."
   ]
  },
  {
   "cell_type": "code",
   "execution_count": 75,
   "metadata": {},
   "outputs": [],
   "source": [
    "semi_fact = lambda x: prod(alt_range(x))"
   ]
  },
  {
   "cell_type": "markdown",
   "metadata": {},
   "source": [
    "이상적인 경우, 함수적 합성과 커링한 함수를 다음과 같이 사용할 수 있으면 좋을 것이다."
   ]
  },
  {
   "cell_type": "code",
   "execution_count": 78,
   "metadata": {},
   "outputs": [],
   "source": [
    "sumwhile = sum * takewhile(lambda x: x > 1E-7)"
   ]
  },
  {
   "cell_type": "markdown",
   "metadata": {},
   "source": [
    "이렇게 하면 무한 시퀀스에 대해 작동하면서 생성되는 값이 주어진 기준을 만족하는 동안만 값을 만들어 낼 수 있는 sum 함수를 정의할 수 있다. 하지만 Pymonad 라이브러리가 List 객체를 처리하는 것만큼 무한 반복 가능 객체를 잘 다루지 못하기 때문에 이러한 코드가 잘 작동하지 않는 것 같다.\n",
    "\n",
    "### 펑터와 적용 가능 펑터(functor)\n",
    "\n",
    "펑터는 간단한 데이터를 함수로 표현한다는 개념이다. 예제를 보자."
   ]
  },
  {
   "cell_type": "code",
   "execution_count": 79,
   "metadata": {},
   "outputs": [],
   "source": [
    "pi = lambda : 3.14"
   ]
  },
  {
   "cell_type": "markdown",
   "metadata": {},
   "source": [
    "단순한 값을 돌려주는 인자가 없는 람다 객체이다. \n",
    "\n",
    "키러항 함수를 펑터에 적용하면 새로운 커링한 펑터가 생긴다. 이 방법은 함수를 인자에 적용해 결과 값을 얻는다는 개념을 확장하여 함수가 인자 값 역할도 하고 함수 역할도 하게 만든 것이다. \n",
    "\n",
    "프로그램에 있는 모든 것이 함수이기 때문에 모든 처리는 함수 합성이라는 주제에 대한 변주일 뿐이다. 커링한 함수의 인자와 결콰는 펑터일 수 있다. \n",
    "\n",
    "모든 것이 함수 합성이기 때문에 실제로 메서드를 사용해 값을 요청하기 전까지는 아무런 계산도 수행할 필요가 없다. 펑터를 사용한 프로그램은 복잡한 계산을 수행하지 않고, 요청을 받으면 값을 만들어 내는 복잡한 객첼을 정의한다. 이론적으로는 똑똑한 컴파일러나 런파임 시스템이 있다면 이러한 합성을 최적화시켜줄 수 있다. \n",
    "\n",
    "함수를 펑터 객체에 적용하는 것은 * 연산자롤 구현된 map과 비슷한 메서드를 사용하려는 것이다. 펑터가 식에서 어떤 역할을 하는지 이해하기 위해 함수 * 펑터나 map(함수, 펑터)를 생각할 수 있다. \n",
    "\n",
    "인자가 여럿 있는 ㅎ마수와 잘 어우러지기 위해 합성 펑터를 만드는 & 연산자를 사용한다. 한 쌍의 펑터로부터 새로운 펑터 객체를 만들기 위해 펑터 & 펑터를 자주 사용할 것이다. \n",
    "\n",
    "파이썬의 단순한 타입을 Maybe 펑터로 감쌀 수 있다. Maybe 펑터는 데이터가 없는 경우를 우아하게 처리할 수 있기 때문에 흥미롭다. pymonad에서 사용하는 접근 방식은 데이터를 감싸서 문제가 생겨도 잘 처리될 수 있게 만드는 방식이다. \n",
    "\n",
    "Maybe 펑터에는 두 가지 하위 클래스가 있다.\n",
    "\n",
    "* Nothing\n",
    "* Just(단순한 값)\n",
    "\n",
    "여기서는 None 대신 Nothing을 사용한다. 이것이 사용할 수 없는 데이터를 표현한다. Just를 사용해 None이 아닌 모든 파이썬 객체를 감싼다. 이러한 펑터는 상수 값을 함수와 유사하게 표현한 것이다.\n",
    "\n",
    "커링한 함수를 Maybe 객체에 사용하면 데이터를 사용할 수 없는 경우에도 잘 처리할 수 있다.\n",
    "\n",
    "### 지연 List 펑터 사용하기\n",
    "\n",
    "List 펑터는 파이썬의 내장 List타입과 달리, 극단적으로 지연 계산을 활용한다. 내장 list(range(10))을 사용하면 list() 함수가 range() 객체를 평가하여 원소가 10개인 리스트를 만든다. 하지만 pymonad의 List 펑터는 지연 계산을 수행하기 때문에 이러한 평가를 전혀 수행하지 않는다."
   ]
  },
  {
   "cell_type": "code",
   "execution_count": 89,
   "metadata": {},
   "outputs": [
    {
     "data": {
      "text/plain": [
       "[0, 1, 2, 3, 4, 5, 6, 7, 8, 9]"
      ]
     },
     "execution_count": 89,
     "metadata": {},
     "output_type": "execute_result"
    }
   ],
   "source": [
    "from pymonad.tools import List\n",
    "\n",
    "list(range(10))"
   ]
  },
  {
   "cell_type": "code",
   "execution_count": 98,
   "metadata": {},
   "outputs": [
    {
     "name": "stdout",
     "output_type": "stream",
     "text": [
      "Help on _GenericAlias in module typing object:\n",
      "\n",
      "class _GenericAlias(_Final)\n",
      " |  _GenericAlias(origin, params, *, inst=True, special=False, name=None)\n",
      " |  \n",
      " |  The central part of internal API.\n",
      " |  \n",
      " |  This represents a generic version of type 'origin' with type arguments 'params'.\n",
      " |  There are two kind of these aliases: user defined and special. The special ones\n",
      " |  are wrappers around builtin collections and ABCs in collections.abc. These must\n",
      " |  have 'name' always set. If 'inst' is False, then the alias can't be instantiated,\n",
      " |  this is used by e.g. typing.List and typing.Dict.\n",
      " |  \n",
      " |  Method resolution order:\n",
      " |      _GenericAlias\n",
      " |      _Final\n",
      " |      builtins.object\n",
      " |  \n",
      " |  Methods defined here:\n",
      " |  \n",
      " |  __call__(self, *args, **kwargs)\n",
      " |      Call self as a function.\n",
      " |  \n",
      " |  __eq__(self, other)\n",
      " |      Return self==value.\n",
      " |  \n",
      " |  __getattr__(self, attr)\n",
      " |  \n",
      " |  __getitem__(self, params)\n",
      " |  \n",
      " |  __hash__(self)\n",
      " |      Return hash(self).\n",
      " |  \n",
      " |  __init__(self, origin, params, *, inst=True, special=False, name=None)\n",
      " |      Initialize self.  See help(type(self)) for accurate signature.\n",
      " |  \n",
      " |  __instancecheck__(self, obj)\n",
      " |      Check if an object is an instance.\n",
      " |  \n",
      " |  __mro_entries__(self, bases)\n",
      " |  \n",
      " |  __reduce__(self)\n",
      " |      Helper for pickle.\n",
      " |  \n",
      " |  __repr__(self)\n",
      " |      Return repr(self).\n",
      " |  \n",
      " |  __setattr__(self, attr, val)\n",
      " |      Implement setattr(self, name, value).\n",
      " |  \n",
      " |  __subclasscheck__(self, cls)\n",
      " |      Check if a class is a subclass.\n",
      " |  \n",
      " |  copy_with(self, params)\n",
      " |  \n",
      " |  ----------------------------------------------------------------------\n",
      " |  Data descriptors defined here:\n",
      " |  \n",
      " |  __dict__\n",
      " |      dictionary for instance variables (if defined)\n",
      " |  \n",
      " |  ----------------------------------------------------------------------\n",
      " |  Class methods inherited from _Final:\n",
      " |  \n",
      " |  __init_subclass__(*args, **kwds) from builtins.type\n",
      " |      This method is called when a class is subclassed.\n",
      " |      \n",
      " |      The default implementation does nothing. It may be\n",
      " |      overridden to extend subclasses.\n",
      " |  \n",
      " |  ----------------------------------------------------------------------\n",
      " |  Data descriptors inherited from _Final:\n",
      " |  \n",
      " |  __weakref__\n",
      " |      list of weak references to the object (if defined)\n",
      "\n"
     ]
    }
   ],
   "source": [
    "help(List)"
   ]
  },
  {
   "cell_type": "markdown",
   "metadata": {},
   "source": [
    "List 펑터는 range 객체를 평가하지 않고 나중에 사용하기 위해 저장해두기만 한다. 함수는 함수를 평가하지 않고 컬렉션을 모으고 싶을 떄 유용하다. \n",
    "\n",
    "다음은 range 함수를 커링한 버전이다. 0이 아니라 1이 최솟값으로 했다. "
   ]
  },
  {
   "cell_type": "code",
   "execution_count": 99,
   "metadata": {},
   "outputs": [],
   "source": [
    "@curry(1)\n",
    "def range1n(n):\n",
    "    if n == 0: return range(1, 2)\n",
    "    return range(1, n+1)"
   ]
  },
  {
   "cell_type": "code",
   "execution_count": 100,
   "metadata": {},
   "outputs": [
    {
     "data": {
      "text/plain": [
       "range(1, 11)"
      ]
     },
     "execution_count": 100,
     "metadata": {},
     "output_type": "execute_result"
    }
   ],
   "source": [
    "range1n(10)"
   ]
  },
  {
   "cell_type": "markdown",
   "metadata": {},
   "source": [
    "다음은 예제를 확장하기 위해 사용할 수 있는 다른 간단한 함수다."
   ]
  },
  {
   "cell_type": "code",
   "execution_count": 101,
   "metadata": {},
   "outputs": [],
   "source": [
    "@curry(1)\n",
    "def n21(n):\n",
    "    return 2*n+1"
   ]
  },
  {
   "cell_type": "code",
   "execution_count": 103,
   "metadata": {},
   "outputs": [],
   "source": [
    "f2 = (Compose(semi_fact).then(n21))"
   ]
  },
  {
   "cell_type": "markdown",
   "metadata": {},
   "source": [
    "### 모나드의 개념과 bind 함수, 이진 오른쪽 시프트 연산자\n",
    "\n",
    "모나드는 엄격한 순서가 있다. 함수형 프로그래밍은 순서를 자유롭게 정할 수 있다. 그래서 필요에 따라 함수 호출 순서를 바꿀 수 있다. \n",
    "모나드를 사용하면 엄격하게 왼쪽에서 오른쪽으로 계산을 수행할 수 있다는 점에서 함수형 프로그래밍에 대한 예외라고 할 수 있다. \n",
    "\n",
    "bind 함수를 >> 연산자에 연결해뒀기 때문에 다음과 같은 식을 작성할 수 있다.\n",
    "\n",
    "Just(some file) >> read header >> read next >> read next\n",
    "\n",
    "앞의 식을 변환하면 다음과 같다.\n",
    "\n",
    "bind(bind(bind(Just(some file), read header), read next), read next)\n",
    "\n",
    "### 모나드를 사용해 시뮬레이션 구현하기\n",
    "\n",
    "모나드는 일종의 파이프라인을 통해 전달되는 대상이다. 어떤 모나드를 함수에 넘기면 비슷한 모나드가 결과 값으로 나온다. \n",
    "\n",
    "어떤 처리 과정을 시뮬레이션 할 때 사용할 수 있는 간단한 파이프라인을 살펴본다. 이는 몬테카를로 시뮬레이션의 일부분일 수 있다. \n",
    "\n",
    "난수를 발생하는 함수"
   ]
  },
  {
   "cell_type": "code",
   "execution_count": 104,
   "metadata": {},
   "outputs": [],
   "source": [
    "import random\n",
    "\n",
    "def rng():\n",
    "    return (random.randint(1, 6, random.randint(1, 6)))"
   ]
  },
  {
   "cell_type": "markdown",
   "metadata": {},
   "source": [
    "전체 게임이 어떻게 흘러갈지 보여준다."
   ]
  },
  {
   "cell_type": "code",
   "execution_count": 114,
   "metadata": {},
   "outputs": [],
   "source": [
    "def craps():\n",
    "    outcome = Just((\"\", 0, []) ) >> come_out_roll(rng) >> point_roll(rng)\n",
    "    print(outcome.getValue())"
   ]
  },
  {
   "cell_type": "markdown",
   "metadata": {},
   "source": [
    "come_out_roll 함수"
   ]
  },
  {
   "cell_type": "code",
   "execution_count": 107,
   "metadata": {},
   "outputs": [],
   "source": [
    "@curry(2)\n",
    "def come_out_roll(dice, status):\n",
    "    d = dice()\n",
    "    if sum(d) in (7, 11):\n",
    "        return Just((\"win\", sum(d), [d]))\n",
    "    elif sum(d) in (2, 3, 12):\n",
    "        return Just((\"lose\", sum(d), [d]))\n",
    "    else:\n",
    "        return Just((\"point\", sum(d) [d]))"
   ]
  },
  {
   "cell_type": "markdown",
   "metadata": {},
   "source": [
    "point_roll 함수"
   ]
  },
  {
   "cell_type": "code",
   "execution_count": 112,
   "metadata": {},
   "outputs": [],
   "source": [
    "@curry(2)\n",
    "def point_roll(dice, status):\n",
    "    prev, point, so_far = status\n",
    "    if prev != \"point\":\n",
    "        return Just(status)\n",
    "    d = dice()\n",
    "    if sum(d) == 7:\n",
    "        return Just((\"craps\", point, so_far+[d]))\n",
    "    elif sum(d) == point:\n",
    "        return Just((\"win\", point, so_far+[d]))\n",
    "    else:\n",
    "        return Just((\"point\", point, so_far+[d])) >> point_roll(dice)"
   ]
  },
  {
   "cell_type": "code",
   "execution_count": 116,
   "metadata": {},
   "outputs": [],
   "source": [
    "craps()"
   ]
  },
  {
   "cell_type": "markdown",
   "metadata": {},
   "source": [
    "영리한 몬테 카를로 시뮬레이션의 상당 부분을 몇 가지 단순한 함수형 프로그래밍 설계 기법으로 만들 수 있다. 특히, 모나드를 사용하면 내부 상태가 있거나 복잡한 선후 관계가 있는 경우에 계산을 구조화하는 데 도움이 될 수 있다."
   ]
  }
 ],
 "metadata": {
  "kernelspec": {
   "display_name": "Python 3",
   "language": "python",
   "name": "python3"
  },
  "language_info": {
   "codemirror_mode": {
    "name": "ipython",
    "version": 3
   },
   "file_extension": ".py",
   "mimetype": "text/x-python",
   "name": "python",
   "nbconvert_exporter": "python",
   "pygments_lexer": "ipython3",
   "version": "3.7.5"
  }
 },
 "nbformat": 4,
 "nbformat_minor": 2
}
