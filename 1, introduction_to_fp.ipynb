{
 "cells": [
  {
   "cell_type": "markdown",
   "metadata": {},
   "source": [
    "## 함수형 프로그래밍 소개\n",
    "\n",
    "함수형 프로그래밍은 식(expression)과 평가(evaluation)를 사용하고 주로 이들은 함수에 캡슐화하여 계산을 정의하는 것이다. 그것은 변경 가능한 객체나 상태 변경의 복잡성을 피하거나 구 중요성을 감소시킨다."
   ]
  },
  {
   "cell_type": "markdown",
   "metadata": {},
   "source": [
    "## 패러다임 구별\n",
    "\n",
    "프로그램 패러다임 중 함수형 프로그래밍과 명령 중심 프로그래밍을 구분하는 중요한 특징 하나는 상태에 대한 개념이다.\n",
    "\n",
    "global, nonlocal, def, class, import, try, except, if, elif, else, for, while 이러한 다양한 문장들의 초점은 모두 변수 상태를 바꾸는 것에 있다.\n",
    "\n",
    "함수형 언어에서는 상태(변수를 변경한다는 의미)를 함수를 평가한다는 좀 더 단순한 표현 방식으로 대치한다. 함수를 평가하면 새로운 객체가 생기거나 기존 객체에서 다른 객체가 만들어진다. 함수형 프로그램은 함수의 합성이기 때문에 쉽게 이해할 수 있는 저수준 함수에서 복잡한 문장을 순서대로 나열한 것보다 수비게 머릿속에 그릴 수 있는 고수준 함수의 합성을 정의할 수 있다.\n",
    "\n",
    "대수적 특징으로 인해 제대로 된 단위 테스트를 위한 테스트 케이스를 판별하기도 쉽다.\n",
    "\n",
    "함수형 프로그램을 (객체지향이든, 절차지향이든) 명령 중심 프로그램과 비교했을 때, 상대적으로 더욱 간결하고, 표현력이 풍부하고, 효율적인 경향이 있다. 설계상의 노력은 비슷한 명령 중심의 프로그래밍에서보다 함수형 프로그래밍에서 좀 더 쉬운 경향이 있다."
   ]
  },
  {
   "cell_type": "markdown",
   "metadata": {},
   "source": [
    "## 함수형 패러다임 사용하기\n",
    "\n",
    "시퀀스의 합은 간단한 재귀적 정의로 만들 수 있다."
   ]
  },
  {
   "cell_type": "code",
   "execution_count": 4,
   "metadata": {},
   "outputs": [],
   "source": [
    "def sum(seq):\n",
    "    if len(seq) == 0: return 0\n",
    "    return seq[0] + sum(seq[1:])"
   ]
  },
  {
   "cell_type": "code",
   "execution_count": 5,
   "metadata": {},
   "outputs": [
    {
     "name": "stdout",
     "output_type": "stream",
     "text": [
      "6\n"
     ]
    }
   ],
   "source": [
    "print(sum([1,2,3]))"
   ]
  },
  {
   "cell_type": "markdown",
   "metadata": {},
   "source": [
    "시퀀스의 합들 두 가지 경우로 정의했다. 기본적인 경우는 시퀀스의 길이가 0인 경우 전체 합이 0이라고 말한다. 반면, 재귀적인 경우는 시퀀스의 합이 첫 번째 원소의 값과 나머지 시퀀스의 합계를 더한 것이라고 말한다. 재귀적 정의는 더 짧은 시퀀스의 결과를 사용하기 때문에 재귀가 언젠가는 기본적인 경우로 넘어갈 것임을 확신할 수 있다."
   ]
  },
  {
   "cell_type": "code",
   "execution_count": 7,
   "metadata": {},
   "outputs": [],
   "source": [
    "def until(n, filter_func, v):\n",
    "    if v == n: return []\n",
    "    if filter_func(v): return [v] + until(n, filter_func, v+1)\n",
    "    else: return until (n, filter_func, v+1)"
   ]
  },
  {
   "cell_type": "code",
   "execution_count": 11,
   "metadata": {},
   "outputs": [],
   "source": [
    "mult_3_5 = lambda x: x%3 ==0 or x%5 ==0"
   ]
  },
  {
   "cell_type": "code",
   "execution_count": 12,
   "metadata": {},
   "outputs": [
    {
     "data": {
      "text/plain": [
       "[0, 3, 5, 6, 9]"
      ]
     },
     "execution_count": 12,
     "metadata": {},
     "output_type": "execute_result"
    }
   ],
   "source": [
    "until(10, mult_3_5, 0)"
   ]
  },
  {
   "cell_type": "markdown",
   "metadata": {},
   "source": [
    "순수한 재귀적 함수 정의의 배후에 있는 여러 아이디어를 다시 살펴볼 것이다. 여기서는 여러 함수형 프로그래밍 언어 컴파일러가 이러한 종류의 단순한 재귀함수를 최적화할 수 있다는 사실을 알아두는 것이 중요하다. 파이썬은 최적화를 수행해주지 않는다. "
   ]
  },
  {
   "cell_type": "code",
   "execution_count": 29,
   "metadata": {},
   "outputs": [
    {
     "data": {
      "text/plain": [
       "0.4929400999972131"
      ]
     },
     "execution_count": 29,
     "metadata": {},
     "output_type": "execute_result"
    }
   ],
   "source": [
    "import timeit\n",
    "timeit.timeit(\"( ( ( []+[1]) + [2]) + [3])+[4]\")"
   ]
  },
  {
   "cell_type": "code",
   "execution_count": 30,
   "metadata": {},
   "outputs": [
    {
     "data": {
      "text/plain": [
       "0.4382162999972934"
      ]
     },
     "execution_count": 30,
     "metadata": {},
     "output_type": "execute_result"
    }
   ],
   "source": [
    "timeit.timeit(\"[] + ([1] +([2]+ ([3] + [4])))\")"
   ]
  },
  {
   "cell_type": "markdown",
   "metadata": {},
   "source": [
    "왼쪽에서 오른쪽으로 포개나가는 방식은 상당한 성능상의 이점을 가진다.\n",
    "함수형 설계에서 중요한 것은 + 연산자를 임의의 순서로 사용하여 같은 결과를 얻을 수 있다는 아이디어다. + 연산자에는 연산자를 사용하는 순서에 제약을 가하는 감춰진 부수 효과가 없다."
   ]
  },
  {
   "cell_type": "markdown",
   "metadata": {},
   "source": [
    "## 함수형 플그래밍의 고전적인 예제\n",
    "\n",
    "\"함수형 프로그래밍의 연구 주제\"에 실린 논문 링크 : http://www.cs.kent.ac.uk/people/staff/dat/miranda/whyfp90.pdf\n",
    "\n",
    "next_ 함수는 sqrt(n)에 대한 현재 추정값 x를 받아 적절한 근을 포작할 수 있는 다음 값을 돌려준다."
   ]
  },
  {
   "cell_type": "code",
   "execution_count": 31,
   "metadata": {},
   "outputs": [
    {
     "data": {
      "text/plain": [
       "[1.0, 1.5, 1.4167, 1.4142]"
      ]
     },
     "execution_count": 31,
     "metadata": {},
     "output_type": "execute_result"
    }
   ],
   "source": [
    "def next_(n, x):\n",
    "    return (x+n/x)/2\n",
    "\n",
    "n = 2\n",
    "f = lambda x: next_(n, x)\n",
    "a0 = 1.0\n",
    "[ round(x, 4) for x in (a0, f(a0), f(f(a0)), f(f(f(a0))), )]"
   ]
  },
  {
   "cell_type": "code",
   "execution_count": 34,
   "metadata": {},
   "outputs": [
    {
     "name": "stdout",
     "output_type": "stream",
     "text": [
      "100\n",
      "10\n",
      "1000\n"
     ]
    }
   ],
   "source": [
    "def test_yield():\n",
    "    yield 100\n",
    "    yield 10\n",
    "    yield 1000\n",
    "    \n",
    "for i in test_yield():\n",
    "    print(i)\n",
    "    "
   ]
  },
  {
   "cell_type": "markdown",
   "metadata": {},
   "source": [
    "제대로 된 제곱근으로 수혐하는 $a_i$의 무한 수열을 생성할 수 있는 함수"
   ]
  },
  {
   "cell_type": "code",
   "execution_count": 35,
   "metadata": {},
   "outputs": [],
   "source": [
    "def repeat(f, a):\n",
    "    yield a \n",
    "    for v in repeat(f, f(a)):\n",
    "        yield v        "
   ]
  },
  {
   "cell_type": "markdown",
   "metadata": {},
   "source": [
    "함수 f()와 초깃값 a를 사용해 추정값들을 생성해낸다. 앞에서 정의한 next_() 함수를 제공한다면, 주어진 n 인자의 제곱근을 추정하는 시퀀스를 얻게 된다.\n",
    "\n",
    "파이썬의 무한한 시퀀스로부터 원소를 한 번에 하나씩 취하기 위해서는 조금 영리해질 필요가 있다. 좀 더 복잡한 재귀를 감싸는 단순한 인터페이스 함수를 사용하는 방식이 문제를 잘 해결해준다."
   ]
  },
  {
   "cell_type": "code",
   "execution_count": 36,
   "metadata": {},
   "outputs": [],
   "source": [
    "def within(e, iterable):\n",
    "    def head_tail(e, a, iterable):\n",
    "        b = next(iterable)\n",
    "        if abs(a-b) <= e: return b\n",
    "        return head_tail(e, b, iterable)\n",
    "    \n",
    "    return head_tail(e, next(iterable), iterable)"
   ]
  },
  {
   "cell_type": "markdown",
   "metadata": {},
   "source": [
    "내부 함수 head_tail은 오차한계 e와 반복 가능한 시컨스의 원소 a, 그리고 나머지 반복 가능 시퀀스인 iterable을 인자로 받는다.\n",
    "within() 함수는 단지 내부적인 head_tail() 함수를 iterable 매개변수의 첫 번째 값을 가지고 적절히 초기화 해주는 역할을 할 뿐이다."
   ]
  },
  {
   "cell_type": "code",
   "execution_count": 37,
   "metadata": {},
   "outputs": [],
   "source": [
    "def sqrt(a0, e, n):\n",
    "    return within(e, repeat(lambda x:next_(n,x), a0))"
   ]
  },
  {
   "cell_type": "markdown",
   "metadata": {},
   "source": [
    "next_ 함수로부터 repeat 함수를 사용해 무한한 값의 시퀀스를 만들었다. within() 함수는 그 시퀀스에서 두 값의 차이가 e보다 작아지면 수의 생성을 중단시킨다."
   ]
  },
  {
   "cell_type": "code",
   "execution_count": 47,
   "metadata": {},
   "outputs": [
    {
     "name": "stdout",
     "output_type": "stream",
     "text": [
      "1.7320508100147274\n"
     ]
    }
   ],
   "source": [
    "print(sqrt(1.0, .0001, 3))"
   ]
  },
  {
   "cell_type": "markdown",
   "metadata": {},
   "source": [
    "## 탐색적 자료 분석\n",
    "\n",
    "복잡한 데이터 집합을 처리하기 위해 다양한 접근 방법과 알고리즘이 쓰인다. 그래서 함수형 프로그래밍이 문제 영역과 그에 대한 자동화된 해법에 매우 잘 들어맞곤 한다.\n",
    "\n",
    "EDA의 목표가 의사 결정을 지원하는 모델을 만드는 것인 경우는 많다. \n",
    "\n",
    "우리는 파이썬의 일부 기능으로 인해 순수 함수형 프로그래밍이 불가능하다는 사실을 알았다. 따라서 몇 가지 혼합된 기법을 사용해 파이썬의 고성능 최적화 기법과 간결하며 표현력 높은 함수형 프로그래밍의 좋은 점을 조합할 것이다."
   ]
  }
 ],
 "metadata": {
  "kernelspec": {
   "display_name": "Python 3",
   "language": "python",
   "name": "python3"
  },
  "language_info": {
   "codemirror_mode": {
    "name": "ipython",
    "version": 3
   },
   "file_extension": ".py",
   "mimetype": "text/x-python",
   "name": "python",
   "nbconvert_exporter": "python",
   "pygments_lexer": "ipython3",
   "version": "3.7.3"
  }
 },
 "nbformat": 4,
 "nbformat_minor": 2
}
