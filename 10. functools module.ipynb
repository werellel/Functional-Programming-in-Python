{
 "cells": [
  {
   "cell_type": "markdown",
   "metadata": {},
   "source": [
    "함수형 프로그래밍은 일급 계층 객체로서의 함수를 강조한다. 함수를 인자로 받거나 함수를 결과 값으로 반환하는 많은 고차 함수를 살펴봤다. 이번 장에서는 함수의 생성과 변경을 돕는 여러 함수가 들어 있는 functools 라이브러리를 살펴본다.\n",
    "\n",
    "functools 모듈에 있는 함수 중 다음과 같은 것을 살펴본다.\n",
    "\n",
    "* @lru_cache: 애플리케이션 유형에 따라 이 데코레이터를 사용하면 상당한 성능 향상을 얻을 수 있다.\n",
    "\n",
    "* @totla_ordering: 이 데코레이터는 다양한 비교 연산자를 만들 수 있도록 돕는다. 이를 통해 객체지향 설계와 함수형 프로그래밍을 어떻게 혼합할 수 있는지에 대한 좀 더 일반적인 질문을 살펴본다.\n",
    "\n",
    "* partial(): 어떤 기존 함수의 인자 중 일부만을 적용한 새로운 함수를 만든다.\n",
    "\n",
    "* reduce(): sum()과 같은 축약을 만드는 것을 일반화한 고차 함수다.\n",
    "\n",
    "### 함수 도구"
   ]
  }
 ],
 "metadata": {
  "kernelspec": {
   "display_name": "Python 3",
   "language": "python",
   "name": "python3"
  },
  "language_info": {
   "codemirror_mode": {
    "name": "ipython",
    "version": 3
   },
   "file_extension": ".py",
   "mimetype": "text/x-python",
   "name": "python",
   "nbconvert_exporter": "python",
   "pygments_lexer": "ipython3",
   "version": "3.7.5"
  }
 },
 "nbformat": 4,
 "nbformat_minor": 2
}
