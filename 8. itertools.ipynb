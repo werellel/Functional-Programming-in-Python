{
 "cells": [
  {
   "cell_type": "markdown",
   "metadata": {},
   "source": [
    "함수형 프로그래밍은 상태가 없는 프로그래밍을 가옺하낟. 파이썬에서 그러한 원칙은 제너레이터 식, 제너레이터 함수, 글고 반복 가능 객체를 가지고 작업하는 것으로 연결도니다. 이번 장에서는 반복 가능한 컬렉션을 가지고 작업할 때 도움을 줄 수 있는 함수를 여러개 제공하는 itertools 라이브러리를 살펴본다. \n",
    "\n",
    "이 모듈에는 수많은 반복자 함수가 있다. 그 함수 중 일부는 다음 장에서 살펴본다. 반복자 함수를 넓은 범주에서 세 가지로 나눠 살펴본다. 각 범주는 다음과 같다.\n",
    "\n",
    "* 무한 반복자를 다룰 수 있는 함수들. 이러한 함수를 반복 가능 객체나 컬렉션에 대한 반복자에 적용할 수 있다. 이러한 ㅎ마수는 대상 반복 가능 객체를 모두 소비할 것이다.\n",
    "\n",
    "* 유한한 반복자를 다룰 수 있는 함수들. 이러한 함수들은 대상 반복자를 여러번 누적하거나 대상 반복자를 축약한다.\n",
    "\n",
    "* 반복자를 복제하여 독립적으로 사용할 수 있는 반복자를 여럿 만드는 tee 반복자. 이를 사용하면 한 번밖에 순회할 수 없다는 파이썬 반복자의 약점을 극복할 수 있다.\n",
    "\n",
    "다른 곳에서도 설명한 적이 있지만, 여기서 반복 가능 객체의 약점을 다시 한 번 강조한다.\n",
    "\n",
    "* 반복 가능 객체는 오직 한 번만 사용할 수 있다. 다른 오류를 발생시키지 않기 때문에 이 사실이 놀라울 수 있다. 일단 한 번 사용하고 나면 반복 가능 객체에는 아무 원소도 없는 것처럼 보이며, 매번 호출할 때마다 StopIteration 예외를 발생시킬 것이다.\n",
    "\n",
    "그리 심각한 제한이라 할 수는 업지만, 반복자에는 다음과 같은 다른 성질도 있다.\n",
    "\n",
    "* 반복 가능 객체에는 len() 함수가 없다. 이를 제외한 다른 대부분의 관점에서 볼 때 반복 가능 객체는 컨테이너처럼 보인다.\n",
    "\n",
    "* 반복 가능 객체는 컨테이너와 달리, next() 연산을 지원한다.\n",
    "\n",
    "* for문은 반복 가능 객체와 컨테이너 사이의 차이를 없애준다. 컨테이너는 iter() 함수를 통해 반복 가능 객체를 만들어 낼 것이다. 반복 가능 객체는 자기 자신을 반환할 수 있다.\n",
    "\n",
    "이것이 이번 장을 다루는 데 필요한 배경 지식이다. itertools 모듈의 아이디어는 반복 가능 객체를 사용해 간결하고 이해하기 쉬운 애플리케이션을 만들되, 반복 가능 객체를 관리하는 것과 관련 있는 세부 사항을 처리하는 데 따른 복잡해보이는 부가 비용을 줄여주는 것이다.\n",
    "\n",
    "### 무한 반복자로 작업하기\n",
    "\n",
    "itertools 모듈은 반복 가능한 원데이터를 좀 더 확장하고 향상시킬 수 있는 몇가지 함수를 제공한다. 다음 세 가지 함수를 살펴본다.\n",
    "\n",
    "* count(): 이는 range() 함수에서 한계를 없앤 버전이다.\n",
    "\n",
    "* cycle(): 이는 어떤 값들을 순환하면서 반복할 수 있게 해준다.\n",
    "\n",
    "* repeat(): 이를 사용하면 단일 값을 원하는 회수만큼 반복할 수 있다.\n",
    "\n",
    "### count()로 개수 세기\n",
    "\n",
    "내장 range() 함수를 정의하려면 최댓값이 있어야 한다. 최솟값이나 중분 값은 생략할 수도 있다. count() 함수에는 시작 값과 생갹 가능한 중분 값이 있지만, 최댓값은 없다.\n",
    "\n",
    "이 함수를 enumerate()와 같은 함수의 기본적인 바탕이라고 생각할 수도 있다. zip()과 count()를 가지고 enumerate()를 다음과 같이 정의할 수 있다."
   ]
  },
  {
   "cell_type": "code",
   "execution_count": 1,
   "metadata": {},
   "outputs": [],
   "source": [
    "enumerate = lambda x, start=0: zip(count(start), x)"
   ]
  },
  {
   "cell_type": "markdown",
   "metadata": {},
   "source": [
    "enumerate() 함수는 마치 zip() 함수를 어떤 반복 가능 객체와 count() 함수에 적용한 것처럼 작동한다. 따라서 다음 두 명령은 서로 같다."
   ]
  },
  {
   "cell_type": "code",
   "execution_count": 5,
   "metadata": {},
   "outputs": [
    {
     "data": {
      "text/plain": [
       "<zip at 0x1f6b7a9d508>"
      ]
     },
     "execution_count": 5,
     "metadata": {},
     "output_type": "execute_result"
    }
   ],
   "source": [
    "from itertools import count\n",
    "some_iterator = [1, 2, 3, 4, 5]\n",
    "zip(count(), some_iterator)\n",
    "enumerate(some_iterator)"
   ]
  },
  {
   "cell_type": "markdown",
   "metadata": {},
   "source": [
    "두 가지 모두 반복자에서 가져온 원소와 일련의 순서를 짝지은 튜플을 내놓는다. zip() 함수를 count() 함수와 함께 사용하면, 다음과 같이 좀 더 단순하게 쓸 수 있다."
   ]
  },
  {
   "cell_type": "code",
   "execution_count": 6,
   "metadata": {},
   "outputs": [
    {
     "data": {
      "text/plain": [
       "<zip at 0x1f6b7a99088>"
      ]
     },
     "execution_count": 6,
     "metadata": {},
     "output_type": "execute_result"
    }
   ],
   "source": [
    "zip(count(1, 3), some_iterator)"
   ]
  },
  {
   "cell_type": "code",
   "execution_count": 7,
   "metadata": {},
   "outputs": [
    {
     "data": {
      "text/plain": [
       "[(1, 1), (4, 2), (7, 3), (10, 4), (13, 5)]"
      ]
     },
     "execution_count": 7,
     "metadata": {},
     "output_type": "execute_result"
    }
   ],
   "source": [
    "list(_)"
   ]
  },
  {
   "cell_type": "markdown",
   "metadata": {},
   "source": [
    "이렇게 하면 수를 반복자의 각 값에 대한 식별자로 제공할 수 있다. enumerate()는 준분 값을 바꿀 수 없기 때문에 이러한 작업을 하기가 조금 어렵다.\n",
    "\n",
    "다음은 enumerate() 함수를 사용해 이러한 일을 하는 방법을 보여준다."
   ]
  },
  {
   "cell_type": "code",
   "execution_count": 9,
   "metadata": {},
   "outputs": [
    {
     "data": {
      "text/plain": [
       "<generator object <genexpr> at 0x000001F6B7AD12C8>"
      ]
     },
     "execution_count": 9,
     "metadata": {},
     "output_type": "execute_result"
    }
   ],
   "source": [
    "((1+3*e, x) for e, x in enumerate(some_iterator))"
   ]
  },
  {
   "cell_type": "code",
   "execution_count": 10,
   "metadata": {},
   "outputs": [
    {
     "data": {
      "text/plain": [
       "[(1, 1), (4, 2), (7, 3), (10, 4), (13, 5)]"
      ]
     },
     "execution_count": 10,
     "metadata": {},
     "output_type": "execute_result"
    }
   ],
   "source": [
    "list(_)"
   ]
  },
  {
   "cell_type": "markdown",
   "metadata": {},
   "source": [
    "* count() 함수에는 정수가 아닌 값도 전달할 수 있다. count(0.5, 0.1)과 같은 방법을 사용해 부동 소수점 수 값을 제공할 수 있다. 증분 값을 2진 부동 소수점수로 정확히 표현할 수 없다면, 이러한 식으로 만든 수의 시퀀스에는 상당한 오류가 누적되기 마련이다. 일반적으로 (0.5+x*.1 for x in count())와 같은 방법을 사용하여 표현 방식에 따른 오류를 누적시키지 않는 것이 더 좋다.\n",
    "\n",
    "다음은 누적에 따른 오류를 관찰하는 방법을 보여준다. 특정 조건을 만족할 때까지 원소를 반복자로부터 평가하는 함수를 정의할 것이다. 다음은 그러한 일을 하는 until() 함수다."
   ]
  },
  {
   "cell_type": "code",
   "execution_count": 11,
   "metadata": {},
   "outputs": [],
   "source": [
    "def until(terminate, iterator):\n",
    "    i = next(iterator)\n",
    "    if terminate(*i): return i\n",
    "    return until(terminate, iterator)"
   ]
  },
  {
   "cell_type": "markdown",
   "metadata": {},
   "source": [
    "반복자에서 다음 값을 가져올 것이다. 그 값이 주어진 검사를 통과하면, 그 값을 채택한다. 그렇지 않다면 이 함수를 재귀적으로 호출하여 검사를 통과하는 수를 검색한다. \n",
    "\n",
    "원본 반복 가능 객체와 비교 함수를 다음과 같이 제공할 수 있다. "
   ]
  },
  {
   "cell_type": "code",
   "execution_count": 22,
   "metadata": {},
   "outputs": [],
   "source": [
    "source = zip(count(0, .1), (.1*c for c in count()))\n",
    "neq = lambda x, y: abs(x-y) > 1.0E-12"
   ]
  },
  {
   "cell_type": "code",
   "execution_count": 23,
   "metadata": {},
   "outputs": [
    {
     "data": {
      "text/plain": [
       "(92.799999999999, 92.80000000000001)"
      ]
     },
     "execution_count": 23,
     "metadata": {},
     "output_type": "execute_result"
    }
   ],
   "source": [
    "until(neq, source)"
   ]
  },
  {
   "cell_type": "markdown",
   "metadata": {},
   "source": [
    "928번 반복하면 오류를 누적한 합계가 1012에 이른다. 어떤 값도 정확한 이진 표현을 가지지 않는다.\n",
    "\n",
    "* count() 함수는 파이썬의 재귀 한계에 가깝다. until() 함수가 꼬리재귀를 써서 더 큰 누적 오류를 가지는 카운트를 찾아내도록 다시 작성할 필요가 있을 것이다."
   ]
  },
  {
   "cell_type": "markdown",
   "metadata": {},
   "source": [
    "알아낼 수 있는 가장 작은 차이를 다음과 같이 계산할 수 있다."
   ]
  },
  {
   "cell_type": "code",
   "execution_count": 24,
   "metadata": {},
   "outputs": [
    {
     "data": {
      "text/plain": [
       "(92.899999999999, 92.9)"
      ]
     },
     "execution_count": 24,
     "metadata": {},
     "output_type": "execute_result"
    }
   ],
   "source": [
    "until(lambda x, y: x!= y, source)"
   ]
  },
  {
   "cell_type": "markdown",
   "metadata": {},
   "source": [
    "오류를 누적시켰다는 것을 볼 수 있다. 그리 큰 오류는 아니지만, 1000번 정도 증가시키고 나면 누적된 오류 값이 상당히 커질 것이다.\n",
    "\n",
    "### cycle()을 사용해 순환되는 원소를 계속 반복하기\n",
    "\n",
    "cycle() 함수는 주어진 값 시퀀스를 반복한다. 이를 간단한 피즈버즈 문제를 푸는 데 사용할 수 있다.\n",
    "\n",
    "cycle() 함수를 사용해 다음과 같이 True와 False의 시퀀스를 내보낼 수 있다."
   ]
  },
  {
   "cell_type": "code",
   "execution_count": 29,
   "metadata": {},
   "outputs": [],
   "source": [
    "from itertools import cycle\n",
    "\n",
    "m3 = (i==0 for i in cycle(range(3)))\n",
    "m5 = (i==0 for i in cycle(range(5)))"
   ]
  },
  {
   "cell_type": "markdown",
   "metadata": {},
   "source": [
    "이를 유한한 개수의 수 컬렉션과 zip() 한다면 어떤 수와 해당 수가 3의 배수인지와 5의 배수인지의 여부를 표시하는 두 불린 값으로 이뤄진 3-튜플을 얻을 수 있다. 만들어질 데이터의 크기를 제한하려면 유한한 반복 가능 객체를 사용해야 한다. 다음은 값의 시퀀스와 각각의 배수 여부를 표현하는 시퀀스다."
   ]
  },
  {
   "cell_type": "code",
   "execution_count": 30,
   "metadata": {},
   "outputs": [],
   "source": [
    "multipliers = zip(range(10), m3, m5)"
   ]
  },
  {
   "cell_type": "markdown",
   "metadata": {},
   "source": [
    "이제 이 3-튜플을 분해하고 필터를 적용하여 배수인 것은 남기고, 나머지는 없앨 수 있다."
   ]
  },
  {
   "cell_type": "code",
   "execution_count": 31,
   "metadata": {},
   "outputs": [
    {
     "data": {
      "text/plain": [
       "45"
      ]
     },
     "execution_count": 31,
     "metadata": {},
     "output_type": "execute_result"
    }
   ],
   "source": [
    "sum(i for i, *multipliers in multipliers)"
   ]
  },
  {
   "cell_type": "markdown",
   "metadata": {},
   "source": [
    "탐색적 데이터 분석에는 이 함수를 더 가치 있게 쓸 수 있는 다른 사용 방법이 있다. \n",
    "\n",
    "때로는 규모가 큰 표본 데이터 집합을 다뤄야 할 경우도 있다. 초기 데이터 정리 및 모델 개발 단계는 작은 규모의 데이터 집합을 사용해 가장 잘 진행될 수 있고, 더 큰 데이터 집합을 사용해 테스트할 수도 있다. cycle() 함수를 사용해 어떤 커다란 집합에서 일부 행을 공평하게 선택할 수도 있다. 모집단의 크기가 $N_p$라면, 원하는 표본 크기 $N_p$를 가지고 cycle()에서 필요로 하는 반복의 길이를 정할 수 있다.\n",
    "\n",
    "### repeat()로 단일 값 반복하기\n",
    "\n",
    "repeat() 함수는 조금 이상한 기능처럼 보인다. 그 함수는 한 가지 값을 계속 반복적으로 발생시킨다. 이를 cycle() 함수 대신 사용할 수 있다. 앞 절에서 봤던 데이터 선택 문제에서 부분의 어떤 함수를 cycle(range(100)) 대신 repeat(0)로 바꿀 수 있다.\n",
    "\n",
    "다음 명령을 생각할 수 있다."
   ]
  },
  {
   "cell_type": "code",
   "execution_count": 34,
   "metadata": {},
   "outputs": [],
   "source": [
    "from itertools import repeat\n",
    "all = repeat(0)"
   ]
  },
  {
   "cell_type": "code",
   "execution_count": 37,
   "metadata": {},
   "outputs": [],
   "source": [
    "subset = cycle(range(100))\n",
    "chooser = (x == 0 for x in all)"
   ]
  },
  {
   "cell_type": "markdown",
   "metadata": {},
   "source": [
    "매개변수를 바꾸면 전체 데이터를 선택하거나 일부 데이터만을 선택할 수 있다.\n",
    "\n",
    "이를 내포시킨 루프 안에 넣어 좀 더 복잡한 구조를 만들 수도 있다. 다음은 이에 관한 간단한 예다."
   ]
  },
  {
   "cell_type": "code",
   "execution_count": 39,
   "metadata": {},
   "outputs": [
    {
     "data": {
      "text/plain": [
       "[0, 1, 4, 9, 16, 25, 36, 49, 64, 81]"
      ]
     },
     "execution_count": 39,
     "metadata": {},
     "output_type": "execute_result"
    }
   ],
   "source": [
    "list(tuple(repeat(i, times=i)) for i in range(10))\n",
    "list(sum(repeat(i, times=i)) for i in range(10))"
   ]
  },
  {
   "cell_type": "markdown",
   "metadata": {},
   "source": [
    "### 유한한 반복자 사용하기\n",
    "\n",
    "itertools 모듈에는 유한한 값의 시퀀스를 만들어 내기 위해 사용할 수 있는 몇 가지 함수가 들어 있다. 그중 열 가지 함수를 살펴보고, 그와 관련 있는 몇 가지 내장 함수도 설명할 것이다.\n",
    "\n",
    "* enumerate(): 이 함수는 실제로 빌트인 패키지의 일부지만, 반복자에 사용할 수 있고, itertools의 다른 함수와 매우 비슷하다.\n",
    "\n",
    "* accumulate(): 이 함수는 입력 반복 가능 객체의 축약의 시퀀스를 반환한다. 이 함수는 고차 함수이며, 다양한 계산을 교모하게 처리할 수 있다.\n",
    "\n",
    "* chain(): 이 함수는 여러 반복 가능 객체를 순차적으로 결합해준다.\n",
    "\n",
    "* groupby(): 이 함수는 인자로 받은 함수를 사용해 단일 반복 가능 객체가 제공하는 입력 데이터에 대한 여러 부분 집합인 반복 가능 객체의 시퀀스로 분해한다.\n",
    "\n",
    "* zip_longest(): 이 함수는 여러 반복 가능 객체의 원소를 조합한다. 내장 zip() 함수는 시퀀스의 길이를 인자로 들어온 반복 가능 객체 중 원소가 가장 적은 것에 맞춰 나머지 원소를 버리지만, zip_longest()는 가장 긴 반복 가능 객체에 맞춰 주어진 fillvalue 인자 값을 사용해 패딩을 넣는다.\n",
    "\n",
    "* compress(): 이 함수는 한 반복 가능 객체의 원소를 불린 값이 들어 있는 다른 반복 가능 객체의 값을 기준으로 걸러낸다.\n",
    "\n",
    "* islice(): 이 함수를 반복 가능 객체에 적용하는 것은 시퀀스의 slice() 함수와 같은 역할을 한다.\n",
    "\n",
    "* dropwhile()과 takewhile(): 이 두 함수는 모두 불린 함수를 사용해 반복 가능 객체의 원소를 거른다. filter()와 filterfalse()와 달리, 인자로 받은 술어 함수가 계속 True이거나 False인 동안만 원소를 거른다.\n",
    "\n",
    "* filterfalse(): 이 함수는 걸러내기 위한 함수를 반복 가능 객체에 적용한다.\n",
    "\n",
    "* starmap(): 이 함수는 여러 반복 가능 객체의 튜플에 함수를 매핑한다. 이떄 함수는 *args를 사용해 여러 반복 가능 객체의 원소를 전달 받는다. map() 함수는 여러 반복 가능 객체를 병렬로 사용해 비슷한 작업을 수행할 수 있다.\n",
    "\n",
    "이러한 함수를 대략적인 범주로 나눴다. 각 범주는 대략 반복 가능 객체의 구조를 재구축하는 것, 걸러내기, 그리고 매핑이다. \n",
    "\n",
    "### enumerate()로 수 할당하기\n",
    "\n",
    "다음과 같이 하면 원래의 시퀀스와 그 위치를 짝지을 수 있다."
   ]
  },
  {
   "cell_type": "code",
   "execution_count": 43,
   "metadata": {},
   "outputs": [],
   "source": [
    "raw_values = [3 ,4, 5, 6, 7]\n",
    "pairs = tuple(enumerate(sorted(raw_values)))"
   ]
  },
  {
   "cell_type": "markdown",
   "metadata": {},
   "source": [
    "이 코드는 raw_values의 원소를 정렬한 후 오름차순으로 순위를 포함한 2-튜플을 만들고, 이를 향후에 사용할 수 있도록 실체화한다.\n",
    "\n",
    "### accumulate()로 현재까지의 합계 구하기\n",
    "\n",
    "accumulate() 함수는 주어진 함수를 반복 가능 객체에 겹쳐, 일련의 축약 값을 누적시킨다. 이 함수의 함수 인자의 기본 값이 operator.add()이기 때문에 다른 반복자의 처음부터 현재까지의 합계를 얻을 수 있다. 하지만 다른 함수를 전달하면 합계가 아니라 처음부터 현재까지의 모든 수를 곱한 값을 구하도록 바꿀 수도 있다. 파이썬 라이브러리 문서에는 max() 함수를 교모하게 사용하여 지금까지의 최댓값을 구하는 예제가 있다.\n",
    "\n",
    "구간별 합계의 응용 중 하나로는 데이터의 4분위 수를 구하는 것이 있다. 각 표본의 누적 합계를 구하고, int(4*value/total)를 계산해 이를 네 구간으로 나눌 수 있다.\n",
    "\n",
    "### chain()으로 반복자 조합하기\n",
    "\n",
    "chain() 함수를 사용해 반복자의 컬렉션을 단일 반복자로 합칠 수 있다. 이러한 기능은 groupby() 함수로 분할한 데이터를 다시 하나로 합칠 때 유용하다. 이 함수를 사용해 여러 컬렉션이 마치 한 컬렉션인 것처럼 다룰 수 있다.\n",
    "\n",
    "특히, chain() 함수를 contextlib.ExitStack() 메서드와 함께 사용하면 여러 파일의 컬렉션을 하나의 반복 가능한 시퀀스처럼 다룰 수 있다. 다음과 비슷한 일을 할 수 있다."
   ]
  },
  {
   "cell_type": "code",
   "execution_count": 45,
   "metadata": {},
   "outputs": [],
   "source": [
    "from contextlib import ExitStack\n",
    "import csv\n",
    "def row_iter_csv_tab(*filenames):\n",
    "    with ExitStack() as stack:\n",
    "        files = [stack.enter_context(open(name, 'r', newline='')) for name in filenames]\n",
    "        readers = [csv.reader(f, delimeter='\\t') for f in files]\n",
    "        readers = map(lambda f: csv.reader(f, delimeter='\\t'), files)\n",
    "        yield from chain(*reader)"
   ]
  },
  {
   "cell_type": "markdown",
   "metadata": {},
   "source": [
    "몇 개의 열린 컨텍스트를 포함하는 ExitStack 객체를 만들었다. with문이 끝나면 ExitStack 객체 안의 모든 원소를 적절히 닫힌다. 여기서 모든 파일은 탭으로 구분한 형식을 따른다. 따라서 모든 파일을 열어 파일의 시퀀스를 일관성 있게 처리할 수 있는 단일 함수로 제공하면 처리하기 매우 편리할 것이다."
   ]
  },
  {
   "cell_type": "code",
   "execution_count": 47,
   "metadata": {},
   "outputs": [],
   "source": [
    "reader = map(lambda f: csv.reader(f, delimiter= '\\t'), files)"
   ]
  },
  {
   "cell_type": "markdown",
   "metadata": {},
   "source": [
    "마지막으로 chain(*reader)를 사용해 모든 파일 리더 객체들을 하나로 연결할 수 있다. 이를 사용해 모든 파일의 행의 시퀀스를 만들어 낼 수 있다. \n",
    "\n",
    "chain(*readers) 객체를 반환할 수 없다는 사실을 알아둬야만 한다. 만약 그렇게 한다면, with문의 컨텍스트를 벗어나기 때문에 모든 원본 파일이 닫힐 것이다. 따라서 with문의 컨텍스트를 살려둔 채 각 행의 yield해야만 한다.\n",
    "\n",
    "### groupby()로 반복자 분할하기\n",
    "\n",
    "groupby()를 사용해 반복자를 더 작은 반복자들로 나눌 수 있다. 인자로 넘기는 key() 함수를 반복자의 각 원소에 적용하여 그룹을 정한다. 현재 원소의 키 값이 직전 원소의 키와 일치한다면 두 원소는 같은 그룹에 들어간다. 만약, 현재 원소의 키가 직전 원소의 키와 다르다면, 직줜 원소가 들어간 그룹을 닫고, 새로운 그룹을 시작한다.\n",
    "\n",
    "groupby() 함수의 출력은 2-튜플의 시퀀스다. 각 튜플에는 그룹의 키 갑솨 그룹내의 원소에 대한 반복 가능 객체가 들어간다. 각 그룹의 반복자를 튜플로 만들어 보관하거나 특정 요약 값을 만들어 내기 위해 처리할 수 있다. 그룹의 반복자가 만들어진 방식으로 인해 각 반복자를 보존할 수는 없다. \n",
    "\n",
    "accumulate()로 현재까지의 합계 구하기에서 입력 시퀀스의 4분위 값을 계산하는 방법을 살펴봤다.\n",
    "\n",
    "원데이터가 들어 있는 trip 변수와 할당된 4분위 값이 있다면, 다음과 같은 명령으로 데이터를 그룹화할 수 있다."
   ]
  },
  {
   "cell_type": "code",
   "execution_count": 50,
   "metadata": {},
   "outputs": [],
   "source": [
    "from itertools import groupby\n",
    "\n",
    "group_iter = groupby(zip(quatile, trip), key=lambda q_raw:q_raw[0])\n",
    "\n",
    "for group_key, group_iter in group_iter:\n",
    "    print(group_key, tuple(group_iter))"
   ]
  },
  {
   "cell_type": "markdown",
   "metadata": {},
   "source": [
    "다음과 같이 defaultdict(list) 메서드를 사용해 그룹을 만들 수도 있다는 것을 알아두자."
   ]
  },
  {
   "cell_type": "code",
   "execution_count": 51,
   "metadata": {},
   "outputs": [],
   "source": [
    "def groupby_2(iterable, key):\n",
    "    groups = defaultdict(list)\n",
    "    for item in iterable:\n",
    "        groups[key(item)].append(item)\n",
    "    for g in groups:\n",
    "        yield iter(groups[g])"
   ]
  },
  {
   "cell_type": "markdown",
   "metadata": {},
   "source": [
    "list 객체를 각 키와 연관된 값으로 하는 defaultdict을 만들었다. 각 원소에 주어진 key() 함수를 적용하여 키 값을 만든다. 그리고 defaultdict 클래스에서 key에 해당하는 리스트의 끝에 원소를 추가한다.\n",
    "\n",
    "모든 원소를 분할하고 나면, 공통 키를 공유하는 원소에 대한 반복자 형태로 각각의 분할을 반환할 수 있다. groupby() 함수와 비슷하지만, 이 함수에 대한 입력 반복자는 꼭 키 값을 기준으로 정렬될 필요가 없다는 것이 다르다. 또한 각 그룹에 속한 원소는 같더라도 원소들의 순서는 달라질 수 있다.\n",
    "\n",
    "### zip_longest(), zip()을 사용해 반복 가능 객체 합치기 \n",
    "\n",
    "zip() 함수와 zip_longest()와 다른 중요한 차이점은 zip() 함수는 가장 짧은 반복자가 끝나면 실행이 끝나지만, zip_longest()는 짧은 반복자가 끝나면 값을 채워넣고, 가장 긴 반복자가 끝나야 실행을 마친다는 것이다.\n",
    "\n",
    "fillvalue 키워드 매개변수는 zip_longest()가 기본 값인 None 외의 다른 값으로 모자란 원소를 채워넣게 한다.\n",
    "\n",
    "대부분 탐색적 데이터 분석 애플리케이션에서, 기본 값인 None을 사용해 채워넣은 경우를 정당화하기는 쉽지 않다.\n",
    "\n",
    "### tee()를 사용해 반복자 복제하기\n",
    "\n",
    "tee() 함수는 반복 가능 객체를 사용할 때 파이썬에 존재하는 규칙을 우회하는 방법을 제공한다.\n",
    "\n",
    "* 반복자는 오직 한 번만 사용할 수 있다.\n",
    "\n",
    "tee() 함수를 사용하면 어떤 반복자를 복제할 수 있다. 이는 데이터를 여러 번 사용하는 경우, 반복자를 실체화하여 시퀀스로 만들어야 하는 부담으로부터 해방시켜준다. 예를 들어 엄청난 크기의 데이터 집합에 대한 평균을 다음과 같이 구할 수 있다."
   ]
  },
  {
   "cell_type": "code",
   "execution_count": 52,
   "metadata": {},
   "outputs": [],
   "source": [
    "from itertools import tee\n",
    "\n",
    "def mean(iterator):\n",
    "    it0, it1= tee(iterator, 2)\n",
    "    s0 = sum(1 for x in it0)\n",
    "    s1 = sum(x for x in it1)\n",
    "    return s0/s1"
   ]
  },
  {
   "cell_type": "markdown",
   "metadata": {},
   "source": [
    "이 함수는 전체 데이터 집합을 어떤 형태로든 메모리에서 실체화할 필요 없이 평균을 계산하는 것처럼 보인다. \n",
    "\n",
    "원칙적으로 흥미롭지만, tee() 함수의 구현에는 심각한 제약이 존재한다. 대부분의 파이썬 구현에서 복제 작접은 시퀀스를 실체화하는 과정을 통해 이뤄진다. 따라서 대상 컬렉션이 작은 경우에는 \"한 번만 사용하기\"라는 제약을 효과적으로 피할 수 있지만, 거대한 데이터  집합에 대해서는 잘 작동하지 않을 것이다.\n",
    "\n",
    "또한 현재의 tee() 함수 구현은 원본 반복자를 소비한다. 반복자의 사용을 제약하지 않는 구문적인 평의를 제공하도록 만드는 편이 더욱 멋질 것이다. 하지만 실전에서 그러한 구조를 관리하는 것은 어렵다. 그래서 파이썬은 tee() 함수를 주의깊게 최적화하도록 강제한다.\n",
    "\n",
    "* 파이썬 표준 라이브러리 10.1.2절 itertools 요리법은 너무나 훌륭한 글이다. 파이썬에서 함수형 프로그래밍을 하려면 내용을 필수적으로 읽어봐야 한다. docs.python.org/3/library/itertools.html#itertools-recipes"
   ]
  }
 ],
 "metadata": {
  "kernelspec": {
   "display_name": "Python 3",
   "language": "python",
   "name": "python3"
  },
  "language_info": {
   "codemirror_mode": {
    "name": "ipython",
    "version": 3
   },
   "file_extension": ".py",
   "mimetype": "text/x-python",
   "name": "python",
   "nbconvert_exporter": "python",
   "pygments_lexer": "ipython3",
   "version": "3.7.5"
  }
 },
 "nbformat": 4,
 "nbformat_minor": 2
}
