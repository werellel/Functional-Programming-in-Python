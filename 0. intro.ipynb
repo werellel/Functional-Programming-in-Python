{
 "cells": [
  {
   "cell_type": "markdown",
   "metadata": {},
   "source": [
    "## 파이썬 함수형 프로그래밍에 들어가며\n",
    "\n",
    "파이썬으로 쉽고 순수한 함수형 프로그램을 작성할 수는 없다 파이썬에는 순수 함수형 프로그래밍에 필요한 몇 가지 기능이 부족하다. 예를 드어, 재귀호출의 깊이가 한정되어 있고, 모든 식에 대한 lazy evaluation(지연 계산)을 지원하지 않으며, 최적화 컴파일러가 없다.\n",
    "\n",
    "파이썬은 각 문장을 정해진 순서대로 실행하며, 식을 왼쪽에서 오른쪽의 순서로 평가한다. 이러한 규칙은 함수적인 순수성에서 벗어난 것이지만, 이를 파이썬 프로그래밍을 할 때 활용하면 직접 최적화를 수행할 수 있다.\n",
    "\n",
    "함수형 프로그램은 불변적인 데이터 구조를 자주 활용한다. 파이썬은 튜플과 namedtuple을 불변 객체로 제공한다. 여러 함수형 프로그래밍 언어는 재귀를 강조하면서 꼬리 호출 재귀 최적화를 활용한다. 파이썬은 재귀를 상대적으로 적은 숫자의 스택 프레임으로 제한하는 경향이 있다. 재귀를 제너레이터 함수라고 생각할 수도 있다. 그렇게 하면 yield from문을 사용해 재귀를 반복문으로 재작성할 수 있고, 이는 꼬리재귀 최적화를 직접 수행하는 것과 같다."
   ]
  }
 ],
 "metadata": {
  "kernelspec": {
   "display_name": "Python 3",
   "language": "python",
   "name": "python3"
  },
  "language_info": {
   "codemirror_mode": {
    "name": "ipython",
    "version": 3
   },
   "file_extension": ".py",
   "mimetype": "text/x-python",
   "name": "python",
   "nbconvert_exporter": "python",
   "pygments_lexer": "ipython3",
   "version": "3.7.3"
  }
 },
 "nbformat": 4,
 "nbformat_minor": 2
}
