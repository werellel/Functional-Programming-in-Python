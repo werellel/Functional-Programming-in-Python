{
 "cells": [
  {
   "cell_type": "markdown",
   "metadata": {},
   "source": [
    "함수형 프로그래밍은 상태가 없는 프로그래밍을 강조하낟. 파이썬에서 이는 제너레이터 식, 제너레이터 함수, 반복 가능 객체를 사용한 프로그래밍으로 귀결된다. 이번 장에서는 반복 가능한 컬렉션에 대한 작업을 도화주는 다양한 함수를 제공하는 itertools 라이브러리에 대한 공부를 계속할 것이다. \n",
    "\n",
    "이번 젱어세는 순열과 조합을 다루는 itertools 함수를 살펴본다. 그러한 함수를 사용하는 몇 가지 요리법과 함수들을 살펴본다. 다음과 같은 함수가 이러한 범주에 들어간다. \n",
    "\n",
    "* product(): 이 함수는 내포된 for 루프를 사용해 만들어 내는 것과 같은 데카르트 곱을 생성한다.\n",
    "\n",
    "* permutations(): 이 함수는 p개의 원소가 있는 원집합으로부터 순서를 감안해 만들어 낼 수 있는 길이가 r인 튜플을 모두 생성한다.\n",
    "\n",
    "* combnations(): 이 함수는 p개의 원소가 있는 원집합으로부터, 정렬한 순서로 길이가 r인 튜플을 모두 생성한다. 이때 중복된 원소가 없어야 한다.\n",
    "\n",
    "* combinations_with_replacement(): 이 함수는 p개의 원소가 있는 원집합으로부터, 정렬한 순서로 길이가 r인 튜플을 모두 생성한다. 이때 원소의 중복을 허용한다.\n",
    "\n",
    "\n"
   ]
  }
 ],
 "metadata": {
  "kernelspec": {
   "display_name": "Python 3",
   "language": "python",
   "name": "python3"
  },
  "language_info": {
   "codemirror_mode": {
    "name": "ipython",
    "version": 3
   },
   "file_extension": ".py",
   "mimetype": "text/x-python",
   "name": "python",
   "nbconvert_exporter": "python",
   "pygments_lexer": "ipython3",
   "version": "3.7.5"
  }
 },
 "nbformat": 4,
 "nbformat_minor": 2
}
